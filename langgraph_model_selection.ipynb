{
 "cells": [
  {
   "cell_type": "code",
   "execution_count": null,
   "metadata": {},
   "outputs": [],
   "source": [
    "from typing import Literal\n",
    "from typing_extensions import TypedDict\n",
    "\n",
    "from langchain_openai import ChatOpenAI\n",
    "from langgraph.graph import MessagesState, END\n",
    "from langgraph.types import Command\n",
    "import os\n",
    "from langchain_anthropic import ChatAnthropic\n",
    "\n",
    "\n",
    "members = [\"english speaker\", \"french speaker\"]\n",
    "options = members\n",
    "\n",
    "system_prompt = (\n",
    "    \"\"\"You are a supervisor tasked with managing a conversation between the following workers: {members}. \n",
    "    If the question is in French, send it to the French speaker. If it's in English, send it to the English speaker.\"\"\"\n",
    ")\n",
    "\n",
    "\n",
    "class Router(TypedDict):\n",
    "    \"\"\"Worker to route to next. If no workers needed, route to FINISH.\"\"\"\n",
    "\n",
    "    next: Literal[*options]\n",
    "\n",
    "\n",
    "llm_english = ChatOpenAI(base_url=os.environ.get(\"SCW_GENERATIVE_APIs_ENDPOINT\"),api_key=os.environ.get(\"SCW_SECRET_KEY_PERSO\"),model=\"llama-3.1-70b-instruct\")\n",
    "llm_french = ChatOpenAI(base_url=os.environ.get(\"SCW_GENERATIVE_APIs_ENDPOINT\"),api_key=os.environ.get(\"SCW_SECRET_KEY_PERSO\"),model=\"llama-3.1-8b-instruct\")\n",
    "\n",
    "\n",
    "# llm_english = ChatAnthropic(model=\"claude-3-5-sonnet-latest\")\n",
    "# llm_french = ChatAnthropic(model=\"claude-3-5-sonnet-latest\")\n",
    "\n",
    "class State(MessagesState):\n",
    "    next: str\n",
    "\n",
    "\n",
    "def supervisor_node(state: State) -> Command[Literal[*members]]:\n",
    "    messages = [\n",
    "        {\"role\": \"system\", \"content\": system_prompt},\n",
    "    ] + state[\"messages\"]\n",
    "    response = llm_english.with_structured_output(Router).invoke(messages)\n",
    "    goto = response[\"next\"]\n",
    "    return Command(goto=goto, update={\"next\": goto})"
   ]
  },
  {
   "cell_type": "code",
   "execution_count": null,
   "metadata": {},
   "outputs": [],
   "source": [
    "from langchain_core.messages import HumanMessage\n",
    "from langgraph.graph import StateGraph, START, END\n",
    "from langgraph.prebuilt import create_react_agent\n",
    "\n",
    "\n",
    "english_agent = create_react_agent(\n",
    "    llm_english, tools=[]\n",
    ")\n",
    "\n",
    "\n",
    "def worker_english(state: State) -> Command[Literal[\"__end__\"]]:\n",
    "    result = english_agent.invoke(state)\n",
    "    return Command(\n",
    "        update={\n",
    "            \"messages\": [\n",
    "                HumanMessage(content=result[\"messages\"][-1].content)\n",
    "            ]\n",
    "        },\n",
    "        goto=END,\n",
    "    )\n",
    "\n",
    "\n",
    "french_agent = create_react_agent(llm_french, tools=[])\n",
    "\n",
    "\n",
    "def worker_french(state: State) -> Command[Literal[\"__end__\"]]:\n",
    "    result = french_agent.invoke(state)\n",
    "    return Command(\n",
    "        update={\n",
    "            \"messages\": [\n",
    "                HumanMessage(content=result[\"messages\"][-1].content)\n",
    "            ]\n",
    "        },\n",
    "        goto=END,\n",
    "    )\n",
    "\n",
    "\n",
    "builder = StateGraph(State)\n",
    "builder.add_edge(START, \"supervisor\")\n",
    "builder.add_node(\"supervisor\", supervisor_node)\n",
    "builder.add_node(\"english speaker\", worker_english)\n",
    "builder.add_node(\"french speaker\", worker_french)\n",
    "graph = builder.compile()"
   ]
  },
  {
   "cell_type": "code",
   "execution_count": 36,
   "metadata": {},
   "outputs": [
    {
     "data": {
      "image/png": "[encoded data removed]",
      "text/plain": [
       "<IPython.core.display.Image object>"
      ]
     },
     "metadata": {},
     "output_type": "display_data"
    }
   ],
   "source": [
    "from IPython.display import display, Image\n",
    "display(Image(graph.get_graph().draw_mermaid_png()))"
   ]
  },
  {
   "cell_type": "code",
   "execution_count": 37,
   "metadata": {},
   "outputs": [
    {
     "name": "stdout",
     "output_type": "stream",
     "text": [
      "((), {'supervisor': {'next': 'english speeaker'}})\n",
      "----\n",
      "(('english speeaker:c016d7fc-6154-1e44-15a2-778192d8c8ea',), {'agent': {'messages': [AIMessage(content='Qui est l\\'auteur du célèbre roman \"1984\" ?', additional_kwargs={'refusal': None}, response_metadata={'token_usage': {'completion_tokens': 16, 'prompt_tokens': 106, 'total_tokens': 122, 'completion_tokens_details': None, 'prompt_tokens_details': None}, 'model_name': 'meta/llama-3.1-70b-instruct:fp8', 'system_fingerprint': None, 'finish_reason': 'stop', 'logprobs': None}, id='run-9421577f-612b-4707-953c-829caf1e2355-0', usage_metadata={'input_tokens': 106, 'output_tokens': 16, 'total_tokens': 122, 'input_token_details': {}, 'output_token_details': {}})]}})\n",
      "----\n",
      "((), {'english speeaker': {'messages': [HumanMessage(content='Qui est l\\'auteur du célèbre roman \"1984\" ?', additional_kwargs={}, response_metadata={})]}})\n",
      "----\n"
     ]
    }
   ],
   "source": [
    "for s in graph.stream(\n",
    "    {\"messages\": [(\"user\", \"Donne moi une question de culture general.\")]},\n",
    "    subgraphs=True,\n",
    "):\n",
    "    print(s)\n",
    "    print(\"----\")"
   ]
  },
  {
   "cell_type": "code",
   "execution_count": 38,
   "metadata": {},
   "outputs": [
    {
     "name": "stdout",
     "output_type": "stream",
     "text": [
      "((), {'supervisor': {'next': 'english speeaker'}})\n",
      "----\n",
      "(('english speeaker:50d6b7e3-9eb9-12d2-fdb9-a42089424f75',), {'agent': {'messages': [AIMessage(content='Who is the author of the famous novel \"To Kill a Mockingbird\"?', additional_kwargs={'refusal': None}, response_metadata={'token_usage': {'completion_tokens': 17, 'prompt_tokens': 103, 'total_tokens': 120, 'completion_tokens_details': None, 'prompt_tokens_details': None}, 'model_name': 'meta/llama-3.1-70b-instruct:fp8', 'system_fingerprint': None, 'finish_reason': 'stop', 'logprobs': None}, id='run-90010405-3486-4bd3-8932-9f16b78f7888-0', usage_metadata={'input_tokens': 103, 'output_tokens': 17, 'total_tokens': 120, 'input_token_details': {}, 'output_token_details': {}})]}})\n",
      "----\n",
      "((), {'english speeaker': {'messages': [HumanMessage(content='Who is the author of the famous novel \"To Kill a Mockingbird\"?', additional_kwargs={}, response_metadata={})]}})\n",
      "----\n"
     ]
    }
   ],
   "source": [
    "for s in graph.stream(\n",
    "    {\"messages\": [(\"user\", \"Give me a general culture question\")]},\n",
    "    subgraphs=True,\n",
    "):\n",
    "    print(s)\n",
    "    print(\"----\")"
   ]
  },
  {
   "cell_type": "code",
   "execution_count": null,
   "metadata": {},
   "outputs": [],
   "source": []
  },
  {
   "cell_type": "code",
   "execution_count": null,
   "metadata": {},
   "outputs": [],
   "source": []
  }
 ],
 "metadata": {
  "kernelspec": {
   "display_name": "venv",
   "language": "python",
   "name": "python3"
  },
  "language_info": {
   "codemirror_mode": {
    "name": "ipython",
    "version": 3
   },
   "file_extension": ".py",
   "mimetype": "text/x-python",
   "name": "python",
   "nbconvert_exporter": "python",
   "pygments_lexer": "ipython3",
   "version": "3.12.2"
  }
 },
 "nbformat": 4,
 "nbformat_minor": 2
}
