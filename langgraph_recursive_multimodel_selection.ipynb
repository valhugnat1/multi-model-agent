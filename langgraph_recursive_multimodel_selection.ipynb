{
 "cells": [
  {
   "cell_type": "code",
   "execution_count": 1,
   "metadata": {},
   "outputs": [],
   "source": [
    "import getpass\n",
    "import os\n",
    "\n",
    "\n",
    "def _set_if_undefined(var: str):\n",
    "    if not os.environ.get(var):\n",
    "        os.environ[var] = getpass.getpass(f\"Please provide your {var}\")\n",
    "\n",
    "\n",
    "_set_if_undefined(\"ANTHROPIC_API_KEY\")\n"
   ]
  },
  {
   "cell_type": "code",
   "execution_count": 28,
   "metadata": {},
   "outputs": [],
   "source": [
    "from typing import Literal\n",
    "from typing_extensions import TypedDict\n",
    "\n",
    "from langchain_openai import ChatOpenAI\n",
    "from langgraph.graph import MessagesState, END\n",
    "from langgraph.types import Command\n",
    "import os\n",
    "from langchain_anthropic import ChatAnthropic\n",
    "\n",
    "\n",
    "members = [\"english speeaker\", \"french speeaker\"]\n",
    "# Our team supervisor is an LLM node. It just picks the next agent to process\n",
    "# and decides when the work is completed\n",
    "options = members + [\"FINISH\"]\n",
    "\n",
    "system_prompt = (\n",
    "    \"You are a supervisor tasked with managing a conversation between the\"\n",
    "    f\" following workers: {members}. Given the following user request,\"\n",
    "    \" respond with the worker to act next. Each worker will perform a\"\n",
    "    \" task and respond with their results and status. When finished,\"\n",
    "    \" respond with FINISH. If the are more then 3 exchange response FINISH.\"\n",
    ")\n",
    "\n",
    "\n",
    "class Router(TypedDict):\n",
    "    \"\"\"Worker to route to next. If no workers needed, route to FINISH.\"\"\"\n",
    "\n",
    "    next: Literal[*options]\n",
    "\n",
    "\n",
    "# llm_english = ChatOpenAI(base_url=os.environ.get(\"SCW_GENERATIVE_APIs_ENDPOINT\"),api_key=os.environ.get(\"SCW_SECRET_KEY_PERSO\"),model=\"llama-3.1-70b-instruct\")\n",
    "# llm_french = ChatOpenAI(base_url=os.environ.get(\"SCW_GENERATIVE_APIs_ENDPOINT\"),api_key=os.environ.get(\"SCW_SECRET_KEY_PERSO\"),model=\"llama-3.1-8b-instruct\")\n",
    "\n",
    "\n",
    "llm_english = ChatAnthropic(model=\"claude-3-5-sonnet-latest\")\n",
    "llm_french = ChatAnthropic(model=\"claude-3-5-sonnet-latest\")\n",
    "\n",
    "class State(MessagesState):\n",
    "    next: str\n",
    "\n",
    "\n",
    "def supervisor_node(state: State) -> Command[Literal[*members, \"__end__\"]]:\n",
    "    messages = [\n",
    "        {\"role\": \"system\", \"content\": system_prompt},\n",
    "    ] + state[\"messages\"]\n",
    "    response = llm_english.with_structured_output(Router).invoke(messages)\n",
    "    goto = response[\"next\"]\n",
    "    if goto == \"FINISH\":\n",
    "        goto = END\n",
    "\n",
    "    return Command(goto=goto, update={\"next\": goto})"
   ]
  },
  {
   "cell_type": "code",
   "execution_count": 29,
   "metadata": {},
   "outputs": [],
   "source": [
    "from langchain_core.messages import HumanMessage\n",
    "from langgraph.graph import StateGraph, START, END\n",
    "from langgraph.prebuilt import create_react_agent\n",
    "\n",
    "\n",
    "english_agent = create_react_agent(\n",
    "    llm_english, tools=[]\n",
    ")\n",
    "\n",
    "\n",
    "def worker_english(state: State) -> Command[Literal[\"supervisor\"]]:\n",
    "    result = english_agent.invoke(state)\n",
    "    return Command(\n",
    "        update={\n",
    "            \"messages\": [\n",
    "                HumanMessage(content=result[\"messages\"][-1].content, name=\"researcher\")\n",
    "            ]\n",
    "        },\n",
    "        goto=\"supervisor\",\n",
    "    )\n",
    "\n",
    "\n",
    "# NOTE: THIS PERFORMS ARBITRARY CODE EXECUTION, WHICH CAN BE UNSAFE WHEN NOT SANDBOXED\n",
    "french_agent = create_react_agent(llm_french, tools=[])\n",
    "\n",
    "\n",
    "def worker_french(state: State) -> Command[Literal[\"supervisor\"]]:\n",
    "    result = french_agent.invoke(state)\n",
    "    return Command(\n",
    "        update={\n",
    "            \"messages\": [\n",
    "                HumanMessage(content=result[\"messages\"][-1].content, name=\"coder\")\n",
    "            ]\n",
    "        },\n",
    "        goto=\"supervisor\",\n",
    "    )\n",
    "\n",
    "\n",
    "builder = StateGraph(State)\n",
    "builder.add_edge(START, \"supervisor\")\n",
    "builder.add_node(\"supervisor\", supervisor_node)\n",
    "builder.add_node(\"english speeaker\", worker_english)\n",
    "builder.add_node(\"french speeaker\", worker_french)\n",
    "graph = builder.compile()"
   ]
  },
  {
   "cell_type": "code",
   "execution_count": 30,
   "metadata": {},
   "outputs": [
    {
     "data": {
      "image/png": "[encoded data removed]",
      "text/plain": [
       "<IPython.core.display.Image object>"
      ]
     },
     "metadata": {},
     "output_type": "display_data"
    }
   ],
   "source": [
    "from IPython.display import display, Image\n",
    "\n",
    "display(Image(graph.get_graph().draw_mermaid_png()))"
   ]
  },
  {
   "cell_type": "code",
   "execution_count": 33,
   "metadata": {},
   "outputs": [
    {
     "name": "stdout",
     "output_type": "stream",
     "text": [
      "((), {'supervisor': {'next': 'english speeaker'}})\n",
      "----\n",
      "(('english speeaker:086bd94c-ada5-1f22-3355-db15298d1316',), {'agent': {'messages': [AIMessage(content=\"Question (en anglais):\\nWhich ancient civilization built the famous city of Petra, carved into pink sandstone cliffs, which is now located in modern-day Jordan?\\n\\nRéponse (en français):\\nLes Nabatéens ont construit la cité de Petra aux alentours du VIe siècle avant J.-C. Ce peuple arabe était composé de commerçants et d'architectes talentueux qui ont créé cette ville impressionnante en la sculptant directement dans la roche rose. Petra était un important centre commercial situé au carrefour des routes de la soie et des épices. La cité a été redécouverte par l'explorateur suisse Johann Ludwig Burckhardt en 1812.\", additional_kwargs={}, response_metadata={'id': 'msg_01DzSRBAcWzutQoAUb1Ah4iG', 'model': 'claude-3-5-sonnet-20241022', 'stop_reason': 'end_turn', 'stop_sequence': None, 'usage': {'cache_creation_input_tokens': 0, 'cache_read_input_tokens': 0, 'input_tokens': 38, 'output_tokens': 175}}, id='run-e6d3a408-e99f-4105-88fc-1395e61561bf-0', usage_metadata={'input_tokens': 38, 'output_tokens': 175, 'total_tokens': 213, 'input_token_details': {'cache_read': 0, 'cache_creation': 0}})]}})\n",
      "----\n",
      "((), {'english speeaker': {'messages': [HumanMessage(content=\"Question (en anglais):\\nWhich ancient civilization built the famous city of Petra, carved into pink sandstone cliffs, which is now located in modern-day Jordan?\\n\\nRéponse (en français):\\nLes Nabatéens ont construit la cité de Petra aux alentours du VIe siècle avant J.-C. Ce peuple arabe était composé de commerçants et d'architectes talentueux qui ont créé cette ville impressionnante en la sculptant directement dans la roche rose. Petra était un important centre commercial situé au carrefour des routes de la soie et des épices. La cité a été redécouverte par l'explorateur suisse Johann Ludwig Burckhardt en 1812.\", additional_kwargs={}, response_metadata={}, name='researcher')]}})\n",
      "----\n",
      "((), {'supervisor': {'next': '__end__'}})\n",
      "----\n"
     ]
    }
   ],
   "source": [
    "for s in graph.stream(\n",
    "    {\"messages\": [(\"user\", \"Donne moi une question de culture general rédigé en anglais sans la reponse. Puis repond en Francais.\")]},\n",
    "    subgraphs=True,\n",
    "):\n",
    "    print(s)\n",
    "    print(\"----\")"
   ]
  },
  {
   "cell_type": "code",
   "execution_count": null,
   "metadata": {},
   "outputs": [],
   "source": []
  }
 ],
 "metadata": {
  "kernelspec": {
   "display_name": "venv",
   "language": "python",
   "name": "python3"
  },
  "language_info": {
   "codemirror_mode": {
    "name": "ipython",
    "version": 3
   },
   "file_extension": ".py",
   "mimetype": "text/x-python",
   "name": "python",
   "nbconvert_exporter": "python",
   "pygments_lexer": "ipython3",
   "version": "3.12.2"
  }
 },
 "nbformat": 4,
 "nbformat_minor": 2
}
